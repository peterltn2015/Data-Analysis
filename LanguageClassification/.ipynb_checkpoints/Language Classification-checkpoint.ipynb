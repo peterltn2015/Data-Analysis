{
 "cells": [
  {
   "cell_type": "code",
   "execution_count": 3,
   "metadata": {},
   "outputs": [],
   "source": [
    "import numpy as np\n",
    "\n",
    "def readLangStats( filename ):\n",
    "    plangi = []\n",
    "    for line in open( filename ):\n",
    "        dum = line.split( ' ' )\n",
    "        pdum = float( dum[ 2 ] )/1000.\n",
    "        plangi.append( pdum )\n",
    "\n",
    "    plang = np.array( plangi )\n",
    "    return plang"
   ]
  },
  {
   "cell_type": "code",
   "execution_count": 4,
   "metadata": {},
   "outputs": [],
   "source": [
    "peng = readLangStats('english.dat')\n",
    "pger = readLangStats('german.dat')\n",
    "pfr = readLangStats('french.dat')\n",
    "psp = readLangStats('spanish.dat')\n",
    "alphabet = 'abcdefghijklmnopqrstuvwxyz'\n",
    "nletters = len(alphabet)\n",
    "languages = ['English', 'German ', 'Spanish', 'French ']"
   ]
  },
  {
   "cell_type": "code",
   "execution_count": 11,
   "metadata": {},
   "outputs": [
    {
     "name": "stdout",
     "output_type": "stream",
     "text": [
      "[[0. 0. 0. 0. 0. 0. 0. 0. 0. 0. 0. 0. 0. 0. 0. 0. 0. 0. 0. 0. 0. 0. 0. 0.\n",
      "  0. 0.]\n",
      " [0. 0. 0. 0. 0. 0. 0. 0. 0. 0. 0. 0. 0. 0. 0. 0. 0. 0. 0. 0. 0. 0. 0. 0.\n",
      "  0. 0.]\n",
      " [0. 0. 0. 0. 0. 0. 0. 0. 0. 0. 0. 0. 0. 0. 0. 0. 0. 0. 0. 0. 0. 0. 0. 0.\n",
      "  0. 0.]\n",
      " [0. 0. 0. 0. 0. 0. 0. 0. 0. 0. 0. 0. 0. 0. 0. 0. 0. 0. 0. 0. 0. 0. 0. 0.\n",
      "  0. 0.]]\n"
     ]
    }
   ],
   "source": [
    "#sentence = raw_input('Enter a sentence:' )\n",
    "sentence = \"As far as the laws of mathematics refer to reality, they are not certain, as far as they are certain, they do not refer to reality.\"\n",
    "sentence = sentence.lower()\n",
    "count = np.zeros((4,26))\n",
    "print(count)\n",
    "for i in range(26):\n",
    "    key = alphabet[i]\n",
    "    #print(len(sentence.split(key))-1)"
   ]
  },
  {
   "cell_type": "code",
   "execution_count": null,
   "metadata": {},
   "outputs": [],
   "source": []
  }
 ],
 "metadata": {
  "kernelspec": {
   "display_name": "Python 3",
   "language": "python",
   "name": "python3"
  },
  "language_info": {
   "codemirror_mode": {
    "name": "ipython",
    "version": 3
   },
   "file_extension": ".py",
   "mimetype": "text/x-python",
   "name": "python",
   "nbconvert_exporter": "python",
   "pygments_lexer": "ipython3",
   "version": "3.7.0"
  }
 },
 "nbformat": 4,
 "nbformat_minor": 2
}
