{
 "cells": [
  {
   "cell_type": "markdown",
   "metadata": {},
   "source": [
    "# Language Classification by Maximum Likelihood Method"
   ]
  },
  {
   "cell_type": "markdown",
   "metadata": {},
   "source": [
    "Identify language between English, German, French and Spanish."
   ]
  },
  {
   "cell_type": "code",
   "execution_count": 1,
   "metadata": {},
   "outputs": [],
   "source": [
    "import numpy as np\n",
    "import math\n",
    "class LanguageClassification():\n",
    "    def __init__(self):\n",
    "        pass\n",
    "    \n",
    "    def readLangStats(self, filename ):\n",
    "        plangi = []\n",
    "        for line in open( filename ):\n",
    "            dum = line.split( ' ' )\n",
    "            pdum = float(dum[2])/1000.\n",
    "            plangi.append(pdum)\n",
    "        plang = np.array(plangi)\n",
    "        return plang\n",
    "    \n",
    "    def getMaximum(self, sentence):\n",
    "        peng = self.readLangStats('english.dat')\n",
    "        pger = self.readLangStats('german.dat')\n",
    "        pfr = self.readLangStats('french.dat')\n",
    "        psp = self.readLangStats('spanish.dat')\n",
    "        alphabet = 'abcdefghijklmnopqrstuvwxyz'\n",
    "        nletters = len(alphabet)\n",
    "        languages = ['English', 'German ', 'Spanish', 'French ']\n",
    "        sentence = sentence.lower()\n",
    "        ll = []\n",
    "        charFre = [len(sentence.split(alphabet[i]))-1 for i in range(26)]\n",
    "        termEng = [charFre[i]*math.log(peng[i],2) for i in range(26)]\n",
    "        ll.append(sum(termEng))\n",
    "        termGer = [charFre[i]*math.log(pger[i],2) for i in range(26)]\n",
    "        ll.append(sum(termGer))\n",
    "        termFr = [charFre[i]*math.log(pfr[i],2) for i in range(26)]\n",
    "        ll.append(sum(termFr))\n",
    "        termSp = [charFre[i]*math.log(psp[i],2) for i in range(26)]\n",
    "        ll.append(sum(termSp))\n",
    "        langIndex = ll.index(max(ll))\n",
    "        print(sentence)\n",
    "        print ('The most likely language is %s.\\n' %(languages[ langIndex ]))\n"
   ]
  },
  {
   "cell_type": "code",
   "execution_count": 2,
   "metadata": {},
   "outputs": [
    {
     "name": "stdout",
     "output_type": "stream",
     "text": [
      "la verite vaut bien qu'on passe quelques annees sans la trouver.''\n",
      "The most likely language is Spanish.\n",
      "\n",
      "as far as the laws of mathematics refer to reality, they are not certain, as far asthey are certain, they do not refer to reality.\n",
      "The most likely language is English.\n",
      "\n"
     ]
    }
   ],
   "source": [
    "lc = LanguageClassification()\n",
    "#sentence = raw_input('Enter a sentence:' )\n",
    "sentence = \"La verite vaut bien qu'on passe quelques annees sans la trouver.''\"\n",
    "lc.getMaximum(sentence)\n",
    "sentence = \"As far as the laws of mathematics refer to reality, they are not certain, as far as\"\\\n",
    "           \"they are certain, they do not refer to reality.\"\n",
    "lc.getMaximum(sentence)\n",
    "\n",
    "    "
   ]
  },
  {
   "cell_type": "code",
   "execution_count": null,
   "metadata": {},
   "outputs": [],
   "source": []
  }
 ],
 "metadata": {
  "kernelspec": {
   "display_name": "Python 3",
   "language": "python",
   "name": "python3"
  },
  "language_info": {
   "codemirror_mode": {
    "name": "ipython",
    "version": 3
   },
   "file_extension": ".py",
   "mimetype": "text/x-python",
   "name": "python",
   "nbconvert_exporter": "python",
   "pygments_lexer": "ipython3",
   "version": "3.7.0"
  }
 },
 "nbformat": 4,
 "nbformat_minor": 2
}
